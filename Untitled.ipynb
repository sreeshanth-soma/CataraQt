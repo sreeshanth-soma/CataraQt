{
 "cells": [
  {
   "cell_type": "code",
   "execution_count": null,
   "id": "7dfbca81-afae-4c66-9078-6a885ed2c903",
   "metadata": {},
   "outputs": [],
   "source": []
  }
 ],
 "metadata": {
  "kernelspec": {
   "display_name": "Python (venv_new)",
   "language": "python",
   "name": "venv_new"
  },
  "language_info": {
   "codemirror_mode": {
    "name": "ipython",
    "version": 3
   },
   "file_extension": ".py",
   "mimetype": "text/x-python",
   "name": "python",
   "nbconvert_exporter": "python",
   "pygments_lexer": "ipython3",
   "version": "3.12.1"
  }
 },
 "nbformat": 4,
 "nbformat_minor": 5
}
